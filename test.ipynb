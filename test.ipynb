{
 "cells": [
  {
   "cell_type": "code",
   "execution_count": 1,
   "metadata": {},
   "outputs": [],
   "source": [
    "from pabutools.election import Instance, Project, ApprovalProfile, ApprovalBallot, Cost_Sat\n",
    "from pabutools.rules.mes_data import method_of_equal_shares\n",
    "from pabutools.tiebreaking import app_score_tie_breaking\n",
    "from pabutools import election\n",
    "from pabutools.mes_data_store import MESDataStore\n",
    "instance, profile = election.parse_pabulib(\"./e4.pb\")\n",
    "\n",
    "from pabutools.election import Project"
   ]
  },
  {
   "cell_type": "code",
   "execution_count": 2,
   "metadata": {},
   "outputs": [],
   "source": [
    "p1 = Project(\"A\", 2)\n",
    "p2 = Project(\"B\", 3)\n",
    "p3 = Project(\"C\", 5)\n",
    "p4 = Project(\"D\", 7)\n",
    "p5 = Project(\"E\", 11)"
   ]
  },
  {
   "cell_type": "code",
   "execution_count": 3,
   "metadata": {},
   "outputs": [],
   "source": [
    "instance = Instance([p1, p2, p3, p4, p5])\n",
    "instance.meta[\"budget\"] = 35\n",
    "instance.budget_limit = 35"
   ]
  },
  {
   "cell_type": "code",
   "execution_count": 4,
   "metadata": {},
   "outputs": [],
   "source": [
    "b1 = ApprovalBallot([p1, p2, p3, p4, p5])\n",
    "b2 = ApprovalBallot([p1, p2, p3, p4, p5])\n",
    "b3 = ApprovalBallot([p1, p2, p3, p4, p5])\n",
    "b4 = ApprovalBallot([p1, p2, p3, p4])\n",
    "b5 = ApprovalBallot([p1, p2, p3])\n",
    "b6 = ApprovalBallot([p1, p2])\n",
    "b7 = ApprovalBallot([p1])\n",
    "b8 = ApprovalBallot([p2])\n",
    "b9 = ApprovalBallot([p3])\n",
    "b10 = ApprovalBallot([p4])\n",
    "b11 = ApprovalBallot([p5])\n"
   ]
  },
  {
   "cell_type": "code",
   "execution_count": 5,
   "metadata": {},
   "outputs": [],
   "source": [
    "\n",
    "profile = ApprovalProfile([b1, b2, b3, b4, b5, b6, b7, b8, b9, b10, b11])"
   ]
  },
  {
   "cell_type": "code",
   "execution_count": 6,
   "metadata": {},
   "outputs": [],
   "source": [
    "dataStore = MESDataStore(profile, instance)"
   ]
  },
  {
   "cell_type": "code",
   "execution_count": 7,
   "metadata": {},
   "outputs": [],
   "source": [
    "outcome = method_of_equal_shares(instance, profile, sat_class=Cost_Sat, mes_data_store=dataStore)"
   ]
  },
  {
   "cell_type": "code",
   "execution_count": 8,
   "metadata": {},
   "outputs": [
    {
     "name": "stdout",
     "output_type": "stream",
     "text": [
      "[A, B, C, D]\n",
      "Project A of cost 2 has 7 votes\n",
      "Project D of cost 7 has 5 votes\n",
      "Project E of cost 11 has 4 votes\n",
      "Project C of cost 5 has 6 votes\n",
      "Project B of cost 3 has 7 votes\n",
      "{'projA': 'A', 'projAtoA': 0, 'projAtoD': 4, 'projAtoE': 3, 'projAtoC': 5, 'projAtoB': 6, 'projD': 'D', 'projDtoA': 4, 'projDtoD': 0, 'projDtoE': 3, 'projDtoC': 4, 'projDtoB': 4, 'projE': 'E', 'projEtoA': 3, 'projEtoD': 3, 'projEtoE': 0, 'projEtoC': 3, 'projEtoB': 3, 'projC': 'C', 'projCtoA': 5, 'projCtoD': 4, 'projCtoE': 3, 'projCtoC': 0, 'projCtoB': 5, 'projB': 'B', 'projBtoA': 6, 'projBtoD': 4, 'projBtoE': 3, 'projBtoC': 5, 'projBtoB': 0}\n",
      "[{'id': 'A', 'name': 'A', 'totalvotes': 7, 'elected': True}, {'id': 'D', 'name': 'D', 'totalvotes': 5, 'elected': True}, {'id': 'E', 'name': 'E', 'totalvotes': 4, 'elected': False}, {'id': 'C', 'name': 'C', 'totalvotes': 6, 'elected': True}, {'id': 'B', 'name': 'B', 'totalvotes': 7, 'elected': True}]\n",
      "{'effective_vote_count': {'D': 5.0, 'E': 4.0, 'A': 7.0, 'C': 6.0, 'B': 7.0}, 'effective_vote_count_reduction': {'D': 0.0, 'E': 0.0, 'C': 0.0, 'B': 0.0}, 'name': 'A', 'voter_flow': {'A': {'A': 1, 'D': 4, 'E': 3, 'C': 5, 'B': 6}, 'D': {'A': 4, 'D': 1, 'E': 3, 'C': 4, 'B': 4}, 'E': {'A': 3, 'D': 3, 'E': 1, 'C': 3, 'B': 3}, 'C': {'A': 5, 'D': 4, 'E': 3, 'C': 1, 'B': 5}, 'B': {'A': 6, 'D': 4, 'E': 3, 'C': 5, 'B': 1}}, 'id': 'A', 'pie_chart_items': [[[{'project': 'B', 'roundVoters': 6, 'nonRoundVoters': 1, 'reduction': 0.0}, {'project': 'C', 'roundVoters': 5, 'nonRoundVoters': 1, 'reduction': 0.0}, {'project': 'D', 'roundVoters': 4, 'nonRoundVoters': 1, 'reduction': 0.0}], [{'project': 'E', 'roundVoters': 3, 'nonRoundVoters': 1, 'reduction': 0.0}]]]}\n",
      "{'effective_vote_count': {'D': 5.0, 'E': 4.0, 'C': 6.0, 'B': 7.0}, 'effective_vote_count_reduction': {'D': 0.0, 'E': 0.0, 'C': 0.0}, 'name': 'B', 'voter_flow': {'A': {'A': 1, 'D': 4, 'E': 3, 'C': 5, 'B': 6}, 'D': {'A': 4, 'D': 1, 'E': 3, 'C': 4, 'B': 4}, 'E': {'A': 3, 'D': 3, 'E': 1, 'C': 3, 'B': 3}, 'C': {'A': 5, 'D': 4, 'E': 3, 'C': 1, 'B': 5}, 'B': {'A': 6, 'D': 4, 'E': 3, 'C': 5, 'B': 1}}, 'id': 'B', 'pie_chart_items': [[[{'project': 'C', 'roundVoters': 5, 'nonRoundVoters': 1, 'reduction': 0.0}, {'project': 'D', 'roundVoters': 4, 'nonRoundVoters': 1, 'reduction': 0.0}, {'project': 'E', 'roundVoters': 3, 'nonRoundVoters': 1, 'reduction': 0.0}]]]}\n",
      "{'effective_vote_count': {'D': 5.0, 'E': 4.0, 'C': 6.0}, 'effective_vote_count_reduction': {'D': 0.0, 'E': 0.0}, 'name': 'C', 'voter_flow': {'A': {'A': 1, 'D': 4, 'E': 3, 'C': 5, 'B': 6}, 'D': {'A': 4, 'D': 1, 'E': 3, 'C': 4, 'B': 4}, 'E': {'A': 3, 'D': 3, 'E': 1, 'C': 3, 'B': 3}, 'C': {'A': 5, 'D': 4, 'E': 3, 'C': 1, 'B': 5}, 'B': {'A': 6, 'D': 4, 'E': 3, 'C': 5, 'B': 1}}, 'id': 'C', 'pie_chart_items': [[[{'project': 'D', 'roundVoters': 4, 'nonRoundVoters': 1, 'reduction': 0.0}, {'project': 'E', 'roundVoters': 3, 'nonRoundVoters': 1, 'reduction': 0.0}]]]}\n",
      "{'effective_vote_count': {'D': 5.0, 'E': 4.0}, 'effective_vote_count_reduction': {'D': 0.0}, 'name': 'E', 'voter_flow': {'A': {'A': 1, 'D': 4, 'E': 3, 'C': 5, 'B': 6}, 'D': {'A': 4, 'D': 1, 'E': 3, 'C': 4, 'B': 4}, 'E': {'A': 3, 'D': 3, 'E': 1, 'C': 3, 'B': 3}, 'C': {'A': 5, 'D': 4, 'E': 3, 'C': 1, 'B': 5}, 'B': {'A': 6, 'D': 4, 'E': 3, 'C': 5, 'B': 1}}, 'id': 'E', 'pie_chart_items': [[[{'project': 'D', 'roundVoters': 3, 'nonRoundVoters': 2, 'reduction': 0.0}]]]}\n",
      "{'effective_vote_count': {}, 'effective_vote_count_reduction': {}, 'voter_flow': {'A': {'A': 1, 'D': 4, 'E': 3, 'C': 5, 'B': 6}, 'D': {'A': 4, 'D': 1, 'E': 3, 'C': 4, 'B': 4}, 'E': {'A': 3, 'D': 3, 'E': 1, 'C': 3, 'B': 3}, 'C': {'A': 5, 'D': 4, 'E': 3, 'C': 1, 'B': 5}, 'B': {'A': 6, 'D': 4, 'E': 3, 'C': 5, 'B': 1}}}\n"
     ]
    }
   ],
   "source": [
    "print(outcome)\n",
    "dataStore.render(\"output.html\", outcome)"
   ]
  },
  {
   "cell_type": "code",
   "execution_count": null,
   "metadata": {},
   "outputs": [],
   "source": []
  }
 ],
 "metadata": {
  "kernelspec": {
   "display_name": "Python 3",
   "language": "python",
   "name": "python3"
  },
  "language_info": {
   "codemirror_mode": {
    "name": "ipython",
    "version": 3
   },
   "file_extension": ".py",
   "mimetype": "text/x-python",
   "name": "python",
   "nbconvert_exporter": "python",
   "pygments_lexer": "ipython3",
   "version": "3.10.11"
  }
 },
 "nbformat": 4,
 "nbformat_minor": 2
}
