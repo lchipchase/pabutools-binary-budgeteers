{
 "cells": [
  {
   "cell_type": "code",
   "execution_count": 1,
   "metadata": {},
   "outputs": [],
   "source": [
    "from pabutools.election import Cost_Sat, Project, Instance, ApprovalBallot\n",
    "from pabutools import election\n",
    "from pabutools.visualisation.visualisation import MESVisualiser\n",
    "from pabutools.rules.mes import method_of_equal_shares\n",
    "instance, profile = election.parse_pabulib(\"./e4.pb\")\n",
    "outcome = method_of_equal_shares(instance, profile, sat_class=Cost_Sat, analytics=True)\n",
    "vis = MESVisualiser(profile, instance, outcome.details)\n",
    "vis.render(outcome, \"./\")"
   ]
  },
  {
   "cell_type": "code",
   "execution_count": null,
   "metadata": {},
   "outputs": [],
   "source": []
  }
 ],
 "metadata": {
  "kernelspec": {
   "display_name": "base",
   "language": "python",
   "name": "python3"
  },
  "language_info": {
   "codemirror_mode": {
    "name": "ipython",
    "version": 3
   },
   "file_extension": ".py",
   "mimetype": "text/x-python",
   "name": "python",
   "nbconvert_exporter": "python",
   "pygments_lexer": "ipython3",
   "version": "3.10.8"
  }
 },
 "nbformat": 4,
 "nbformat_minor": 2
}
