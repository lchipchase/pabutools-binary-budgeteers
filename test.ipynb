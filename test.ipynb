{
 "cells": [
  {
   "cell_type": "code",
   "execution_count": 3,
   "metadata": {},
   "outputs": [
    {
     "ename": "ModuleNotFoundError",
     "evalue": "No module named 'pabutools.visualisation'",
     "output_type": "error",
     "traceback": [
      "\u001b[0;31m---------------------------------------------------------------------------\u001b[0m",
      "\u001b[0;31mModuleNotFoundError\u001b[0m                       Traceback (most recent call last)",
      "Cell \u001b[0;32mIn[3], line 3\u001b[0m\n\u001b[1;32m      1\u001b[0m \u001b[38;5;28;01mfrom\u001b[39;00m \u001b[38;5;21;01mpabutools\u001b[39;00m\u001b[38;5;21;01m.\u001b[39;00m\u001b[38;5;21;01melection\u001b[39;00m \u001b[38;5;28;01mimport\u001b[39;00m Cost_Sat, Project, Instance, ApprovalBallot\n\u001b[1;32m      2\u001b[0m \u001b[38;5;28;01mfrom\u001b[39;00m \u001b[38;5;21;01mpabutools\u001b[39;00m \u001b[38;5;28;01mimport\u001b[39;00m election\n\u001b[0;32m----> 3\u001b[0m \u001b[38;5;28;01mfrom\u001b[39;00m \u001b[38;5;21;01mpabutools\u001b[39;00m\u001b[38;5;21;01m.\u001b[39;00m\u001b[38;5;21;01mvisualisation\u001b[39;00m\u001b[38;5;21;01m.\u001b[39;00m\u001b[38;5;21;01mvisualisation\u001b[39;00m \u001b[38;5;28;01mimport\u001b[39;00m MESVisualiser\n\u001b[1;32m      4\u001b[0m \u001b[38;5;28;01mfrom\u001b[39;00m \u001b[38;5;21;01mpabutools\u001b[39;00m\u001b[38;5;21;01m.\u001b[39;00m\u001b[38;5;21;01mrules\u001b[39;00m\u001b[38;5;21;01m.\u001b[39;00m\u001b[38;5;21;01mmes\u001b[39;00m \u001b[38;5;28;01mimport\u001b[39;00m method_of_equal_shares\n\u001b[1;32m      5\u001b[0m instance, profile \u001b[38;5;241m=\u001b[39m election\u001b[38;5;241m.\u001b[39mparse_pabulib(\u001b[38;5;124m\"\u001b[39m\u001b[38;5;124m./e4.pb\u001b[39m\u001b[38;5;124m\"\u001b[39m)\n",
      "\u001b[0;31mModuleNotFoundError\u001b[0m: No module named 'pabutools.visualisation'"
     ]
    }
   ],
   "source": [
    "from pabutools.election import Cost_Sat, Project, Instance, ApprovalBallot\n",
    "from pabutools import election\n",
    "from pabutools.visualisation.visualisation import MESVisualiser\n",
    "from pabutools.rules.mes import method_of_equal_shares\n",
    "instance, profile = election.parse_pabulib(\"./e4.pb\")\n",
    "outcome = method_of_equal_shares(instance, profile, sat_class=Cost_Sat, analytics=True)\n",
    "vis = MESVisualiser(profile, instance, outcome.details)\n",
    "vis.render(outcome, \"./\")"
   ]
  },
  {
   "cell_type": "code",
   "execution_count": null,
   "metadata": {},
   "outputs": [],
   "source": []
  }
 ],
 "metadata": {
  "kernelspec": {
   "display_name": "base",
   "language": "python",
   "name": "python3"
  },
  "language_info": {
   "codemirror_mode": {
    "name": "ipython",
    "version": 3
   },
   "file_extension": ".py",
   "mimetype": "text/x-python",
   "name": "python",
   "nbconvert_exporter": "python",
   "pygments_lexer": "ipython3",
   "version": "3.10.8"
  }
 },
 "nbformat": 4,
 "nbformat_minor": 2
}
