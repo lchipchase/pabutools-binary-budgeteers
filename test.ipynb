{
 "cells": [
  {
   "cell_type": "code",
   "execution_count": 1,
   "metadata": {},
   "outputs": [],
   "source": [
    "from pabutools.election import Instance, Project, ApprovalProfile, ApprovalBallot, Cost_Sat\n",
    "from pabutools.rules.mes_data import method_of_equal_shares\n",
    "from pabutools.tiebreaking import app_score_tie_breaking\n",
    "from pabutools import election\n",
    "from pabutools.mes_data_store import MESDataStore\n",
    "instance, profile = election.parse_pabulib(\"./e4.pb\")"
   ]
  },
  {
   "cell_type": "code",
   "execution_count": 2,
   "metadata": {},
   "outputs": [
    {
     "name": "stdout",
     "output_type": "stream",
     "text": [
      "Experimental PB on Mechanical Turk | Knapsack_7\n",
      "500000\n"
     ]
    }
   ],
   "source": [
    "print(instance.meta[\"description\"])\n",
    "print(instance.meta[\"budget\"])\n",
    "dataStore = MESDataStore(profile, instance)"
   ]
  },
  {
   "cell_type": "code",
   "execution_count": 3,
   "metadata": {},
   "outputs": [],
   "source": [
    "outcome = method_of_equal_shares(instance, profile, sat_class=Cost_Sat, mes_data_store=dataStore)"
   ]
  },
  {
   "cell_type": "code",
   "execution_count": 6,
   "metadata": {},
   "outputs": [
    {
     "name": "stdout",
     "output_type": "stream",
     "text": [
      "[3, 14, 13, 12, 2, 31, 21, 23, 15]\n",
      "Project 2 of cost 13000 has 39 votes\n",
      "Project 22 of cost 320000 has 9 votes\n",
      "Project 21 of cost 119400 has 37 votes\n",
      "Project 13 of cost 24000 has 40 votes\n",
      "Project 14 of cost 25000 has 41 votes\n",
      "Project 8 of cost 250000 has 3 votes\n",
      "Project 3 of cost 27000 has 48 votes\n",
      "Project 43 of cost 150000 has 13 votes\n",
      "Project 36 of cost 61000 has 9 votes\n",
      "Project 37 of cost 305000 has 3 votes\n",
      "Project 50 of cost 200000 has 14 votes\n",
      "Project 47 of cost 200000 has 11 votes\n",
      "Project 42 of cost 190000 has 13 votes\n",
      "Project 5 of cost 75000 has 9 votes\n",
      "Project 12 of cost 50000 has 39 votes\n",
      "Project 31 of cost 8000 has 38 votes\n",
      "Project 23 of cost 40000 has 36 votes\n",
      "Project 41 of cost 110000 has 32 votes\n",
      "Project 15 of cost 20000 has 21 votes\n",
      "Project 33 of cost 65000 has 33 votes\n",
      "{'proj2': '2', 'proj2to2': 0, 'proj2to22': 4, 'proj2to21': 22, 'proj2to13': 25, 'proj2to14': 29, 'proj2to8': 0, 'proj2to3': 33, 'proj2to43': 7, 'proj2to36': 6, 'proj2to37': 3, 'proj2to50': 7, 'proj2to47': 4, 'proj2to42': 8, 'proj2to5': 4, 'proj2to12': 27, 'proj2to31': 23, 'proj2to23': 25, 'proj2to41': 17, 'proj2to15': 13, 'proj2to33': 22, 'proj22': '22', 'proj22to2': 4, 'proj22to22': 0, 'proj22to21': 2, 'proj22to13': 6, 'proj22to14': 4, 'proj22to8': 0, 'proj22to3': 3, 'proj22to43': 0, 'proj22to36': 0, 'proj22to37': 0, 'proj22to50': 0, 'proj22to47': 0, 'proj22to42': 1, 'proj22to5': 1, 'proj22to12': 6, 'proj22to31': 5, 'proj22to23': 0, 'proj22to41': 3, 'proj22to15': 2, 'proj22to33': 2, 'proj21': '21', 'proj21to2': 22, 'proj21to22': 2, 'proj21to21': 0, 'proj21to13': 22, 'proj21to14': 27, 'proj21to8': 2, 'proj21to3': 32, 'proj21to43': 7, 'proj21to36': 4, 'proj21to37': 1, 'proj21to50': 3, 'proj21to47': 2, 'proj21to42': 7, 'proj21to5': 3, 'proj21to12': 23, 'proj21to31': 23, 'proj21to23': 22, 'proj21to41': 18, 'proj21to15': 12, 'proj21to33': 20, 'proj13': '13', 'proj13to2': 25, 'proj13to22': 6, 'proj13to21': 22, 'proj13to13': 0, 'proj13to14': 29, 'proj13to8': 0, 'proj13to3': 30, 'proj13to43': 7, 'proj13to36': 5, 'proj13to37': 1, 'proj13to50': 7, 'proj13to47': 5, 'proj13to42': 4, 'proj13to5': 5, 'proj13to12': 26, 'proj13to31': 27, 'proj13to23': 24, 'proj13to41': 20, 'proj13to15': 13, 'proj13to33': 21, 'proj14': '14', 'proj14to2': 29, 'proj14to22': 4, 'proj14to21': 27, 'proj14to13': 29, 'proj14to14': 0, 'proj14to8': 0, 'proj14to3': 35, 'proj14to43': 6, 'proj14to36': 7, 'proj14to37': 2, 'proj14to50': 6, 'proj14to47': 3, 'proj14to42': 7, 'proj14to5': 5, 'proj14to12': 32, 'proj14to31': 29, 'proj14to23': 25, 'proj14to41': 18, 'proj14to15': 14, 'proj14to33': 24, 'proj8': '8', 'proj8to2': 0, 'proj8to22': 0, 'proj8to21': 2, 'proj8to13': 0, 'proj8to14': 0, 'proj8to8': 0, 'proj8to3': 1, 'proj8to43': 0, 'proj8to36': 1, 'proj8to37': 0, 'proj8to50': 0, 'proj8to47': 0, 'proj8to42': 0, 'proj8to5': 1, 'proj8to12': 0, 'proj8to31': 2, 'proj8to23': 1, 'proj8to41': 1, 'proj8to15': 2, 'proj8to33': 2, 'proj3': '3', 'proj3to2': 33, 'proj3to22': 3, 'proj3to21': 32, 'proj3to13': 30, 'proj3to14': 35, 'proj3to8': 1, 'proj3to3': 0, 'proj3to43': 9, 'proj3to36': 7, 'proj3to37': 2, 'proj3to50': 8, 'proj3to47': 6, 'proj3to42': 8, 'proj3to5': 4, 'proj3to12': 34, 'proj3to31': 31, 'proj3to23': 29, 'proj3to41': 24, 'proj3to15': 15, 'proj3to33': 26, 'proj43': '43', 'proj43to2': 7, 'proj43to22': 0, 'proj43to21': 7, 'proj43to13': 7, 'proj43to14': 6, 'proj43to8': 0, 'proj43to3': 9, 'proj43to43': 0, 'proj43to36': 1, 'proj43to37': 0, 'proj43to50': 3, 'proj43to47': 1, 'proj43to42': 1, 'proj43to5': 2, 'proj43to12': 9, 'proj43to31': 7, 'proj43to23': 5, 'proj43to41': 5, 'proj43to15': 5, 'proj43to33': 4, 'proj36': '36', 'proj36to2': 6, 'proj36to22': 0, 'proj36to21': 4, 'proj36to13': 5, 'proj36to14': 7, 'proj36to8': 1, 'proj36to3': 7, 'proj36to43': 1, 'proj36to36': 0, 'proj36to37': 1, 'proj36to50': 1, 'proj36to47': 0, 'proj36to42': 1, 'proj36to5': 3, 'proj36to12': 6, 'proj36to31': 6, 'proj36to23': 5, 'proj36to41': 4, 'proj36to15': 5, 'proj36to33': 6, 'proj37': '37', 'proj37to2': 3, 'proj37to22': 0, 'proj37to21': 1, 'proj37to13': 1, 'proj37to14': 2, 'proj37to8': 0, 'proj37to3': 2, 'proj37to43': 0, 'proj37to36': 1, 'proj37to37': 0, 'proj37to50': 0, 'proj37to47': 0, 'proj37to42': 0, 'proj37to5': 0, 'proj37to12': 1, 'proj37to31': 2, 'proj37to23': 1, 'proj37to41': 0, 'proj37to15': 1, 'proj37to33': 1, 'proj50': '50', 'proj50to2': 7, 'proj50to22': 0, 'proj50to21': 3, 'proj50to13': 7, 'proj50to14': 6, 'proj50to8': 0, 'proj50to3': 8, 'proj50to43': 3, 'proj50to36': 1, 'proj50to37': 0, 'proj50to50': 0, 'proj50to47': 2, 'proj50to42': 1, 'proj50to5': 2, 'proj50to12': 5, 'proj50to31': 4, 'proj50to23': 9, 'proj50to41': 3, 'proj50to15': 2, 'proj50to33': 8, 'proj47': '47', 'proj47to2': 4, 'proj47to22': 0, 'proj47to21': 2, 'proj47to13': 5, 'proj47to14': 3, 'proj47to8': 0, 'proj47to3': 6, 'proj47to43': 1, 'proj47to36': 0, 'proj47to37': 0, 'proj47to50': 2, 'proj47to47': 0, 'proj47to42': 2, 'proj47to5': 0, 'proj47to12': 3, 'proj47to31': 5, 'proj47to23': 7, 'proj47to41': 7, 'proj47to15': 1, 'proj47to33': 2, 'proj42': '42', 'proj42to2': 8, 'proj42to22': 1, 'proj42to21': 7, 'proj42to13': 4, 'proj42to14': 7, 'proj42to8': 0, 'proj42to3': 8, 'proj42to43': 1, 'proj42to36': 1, 'proj42to37': 0, 'proj42to50': 1, 'proj42to47': 2, 'proj42to42': 0, 'proj42to5': 1, 'proj42to12': 5, 'proj42to31': 2, 'proj42to23': 4, 'proj42to41': 6, 'proj42to15': 2, 'proj42to33': 3, 'proj5': '5', 'proj5to2': 4, 'proj5to22': 1, 'proj5to21': 3, 'proj5to13': 5, 'proj5to14': 5, 'proj5to8': 1, 'proj5to3': 4, 'proj5to43': 2, 'proj5to36': 3, 'proj5to37': 0, 'proj5to50': 2, 'proj5to47': 0, 'proj5to42': 1, 'proj5to5': 0, 'proj5to12': 4, 'proj5to31': 7, 'proj5to23': 4, 'proj5to41': 3, 'proj5to15': 7, 'proj5to33': 5, 'proj12': '12', 'proj12to2': 27, 'proj12to22': 6, 'proj12to21': 23, 'proj12to13': 26, 'proj12to14': 32, 'proj12to8': 0, 'proj12to3': 34, 'proj12to43': 9, 'proj12to36': 6, 'proj12to37': 1, 'proj12to50': 5, 'proj12to47': 3, 'proj12to42': 5, 'proj12to5': 4, 'proj12to12': 0, 'proj12to31': 27, 'proj12to23': 23, 'proj12to41': 18, 'proj12to15': 14, 'proj12to33': 22, 'proj31': '31', 'proj31to2': 23, 'proj31to22': 5, 'proj31to21': 23, 'proj31to13': 27, 'proj31to14': 29, 'proj31to8': 2, 'proj31to3': 31, 'proj31to43': 7, 'proj31to36': 6, 'proj31to37': 2, 'proj31to50': 4, 'proj31to47': 5, 'proj31to42': 2, 'proj31to5': 7, 'proj31to12': 27, 'proj31to31': 0, 'proj31to23': 20, 'proj31to41': 19, 'proj31to15': 14, 'proj31to33': 22, 'proj23': '23', 'proj23to2': 25, 'proj23to22': 0, 'proj23to21': 22, 'proj23to13': 24, 'proj23to14': 25, 'proj23to8': 1, 'proj23to3': 29, 'proj23to43': 5, 'proj23to36': 5, 'proj23to37': 1, 'proj23to50': 9, 'proj23to47': 7, 'proj23to42': 4, 'proj23to5': 4, 'proj23to12': 23, 'proj23to31': 20, 'proj23to23': 0, 'proj23to41': 17, 'proj23to15': 11, 'proj23to33': 23, 'proj41': '41', 'proj41to2': 17, 'proj41to22': 3, 'proj41to21': 18, 'proj41to13': 20, 'proj41to14': 18, 'proj41to8': 1, 'proj41to3': 24, 'proj41to43': 5, 'proj41to36': 4, 'proj41to37': 0, 'proj41to50': 3, 'proj41to47': 7, 'proj41to42': 6, 'proj41to5': 3, 'proj41to12': 18, 'proj41to31': 19, 'proj41to23': 17, 'proj41to41': 0, 'proj41to15': 9, 'proj41to33': 12, 'proj15': '15', 'proj15to2': 13, 'proj15to22': 2, 'proj15to21': 12, 'proj15to13': 13, 'proj15to14': 14, 'proj15to8': 2, 'proj15to3': 15, 'proj15to43': 5, 'proj15to36': 5, 'proj15to37': 1, 'proj15to50': 2, 'proj15to47': 1, 'proj15to42': 2, 'proj15to5': 7, 'proj15to12': 14, 'proj15to31': 14, 'proj15to23': 11, 'proj15to41': 9, 'proj15to15': 0, 'proj15to33': 11, 'proj33': '33', 'proj33to2': 22, 'proj33to22': 2, 'proj33to21': 20, 'proj33to13': 21, 'proj33to14': 24, 'proj33to8': 2, 'proj33to3': 26, 'proj33to43': 4, 'proj33to36': 6, 'proj33to37': 1, 'proj33to50': 8, 'proj33to47': 2, 'proj33to42': 3, 'proj33to5': 5, 'proj33to12': 22, 'proj33to31': 22, 'proj33to23': 23, 'proj33to41': 12, 'proj33to15': 11, 'proj33to33': 0}\n",
      "[{'id': '2', 'name': '2', 'totalvotes': 39, 'elected': True}, {'id': '22', 'name': '22', 'totalvotes': 9, 'elected': False}, {'id': '21', 'name': '21', 'totalvotes': 37, 'elected': True}, {'id': '13', 'name': '13', 'totalvotes': 40, 'elected': True}, {'id': '14', 'name': '14', 'totalvotes': 41, 'elected': True}, {'id': '8', 'name': '8', 'totalvotes': 3, 'elected': False}, {'id': '3', 'name': '3', 'totalvotes': 48, 'elected': True}, {'id': '43', 'name': '43', 'totalvotes': 13, 'elected': False}, {'id': '36', 'name': '36', 'totalvotes': 9, 'elected': False}, {'id': '37', 'name': '37', 'totalvotes': 3, 'elected': False}, {'id': '50', 'name': '50', 'totalvotes': 14, 'elected': False}, {'id': '47', 'name': '47', 'totalvotes': 11, 'elected': False}, {'id': '42', 'name': '42', 'totalvotes': 13, 'elected': False}, {'id': '5', 'name': '5', 'totalvotes': 9, 'elected': False}, {'id': '12', 'name': '12', 'totalvotes': 39, 'elected': True}, {'id': '31', 'name': '31', 'totalvotes': 38, 'elected': True}, {'id': '23', 'name': '23', 'totalvotes': 36, 'elected': True}, {'id': '41', 'name': '41', 'totalvotes': 32, 'elected': False}, {'id': '15', 'name': '15', 'totalvotes': 21, 'elected': True}, {'id': '33', 'name': '33', 'totalvotes': 33, 'elected': False}]\n",
      "{'effective_vote_count': {'2': mpq(39,1), '50': mpq(14,1), '22': mpq(9,1), '21': mpq(37,1), '47': mpq(11,1), '42': mpq(13,1), '5': mpq(9,1), '12': mpq(39,1), '31': mpq(38,1), '13': mpq(40,1), '14': mpq(41,1), '23': mpq(36,1), '41': mpq(32,1), '8': mpq(3,1), '3': mpq(48,1), '43': mpq(13,1), '36': mpq(9,1), '15': mpq(21,1), '33': mpq(33,1), '37': mpq(3,1)}, 'effective_vote_count_reduction': {'2': mpq(0,1), '50': mpq(0,1), '22': mpq(0,1), '21': mpq(0,1), '47': mpq(0,1), '42': mpq(0,1), '5': mpq(0,1), '12': mpq(0,1), '31': mpq(0,1), '13': mpq(0,1), '14': mpq(0,1), '23': mpq(0,1), '41': mpq(0,1), '8': mpq(0,1), '43': mpq(0,1), '36': mpq(0,1), '15': mpq(0,1), '33': mpq(0,1), '37': mpq(0,1)}, 'name': '3', 'voter_flow': {2: {2: 0, 22: 4, 21: 22, 13: 25, 14: 29, 8: 0, 3: 33, 43: 7, 36: 6, 37: 3, 50: 7, 47: 4, 42: 8, 5: 4, 12: 27, 31: 23, 23: 25, 41: 17, 15: 13, 33: 22}, 22: {2: 4, 22: 0, 21: 2, 13: 6, 14: 4, 8: 0, 3: 3, 43: 0, 36: 0, 37: 0, 50: 0, 47: 0, 42: 1, 5: 1, 12: 6, 31: 5, 23: 0, 41: 3, 15: 2, 33: 2}, 21: {2: 22, 22: 2, 21: 0, 13: 22, 14: 27, 8: 2, 3: 32, 43: 7, 36: 4, 37: 1, 50: 3, 47: 2, 42: 7, 5: 3, 12: 23, 31: 23, 23: 22, 41: 18, 15: 12, 33: 20}, 13: {2: 25, 22: 6, 21: 22, 13: 0, 14: 29, 8: 0, 3: 30, 43: 7, 36: 5, 37: 1, 50: 7, 47: 5, 42: 4, 5: 5, 12: 26, 31: 27, 23: 24, 41: 20, 15: 13, 33: 21}, 14: {2: 29, 22: 4, 21: 27, 13: 29, 14: 0, 8: 0, 3: 35, 43: 6, 36: 7, 37: 2, 50: 6, 47: 3, 42: 7, 5: 5, 12: 32, 31: 29, 23: 25, 41: 18, 15: 14, 33: 24}, 8: {2: 0, 22: 0, 21: 2, 13: 0, 14: 0, 8: 0, 3: 1, 43: 0, 36: 1, 37: 0, 50: 0, 47: 0, 42: 0, 5: 1, 12: 0, 31: 2, 23: 1, 41: 1, 15: 2, 33: 2}, 3: {2: 33, 22: 3, 21: 32, 13: 30, 14: 35, 8: 1, 3: 0, 43: 9, 36: 7, 37: 2, 50: 8, 47: 6, 42: 8, 5: 4, 12: 34, 31: 31, 23: 29, 41: 24, 15: 15, 33: 26}, 43: {2: 7, 22: 0, 21: 7, 13: 7, 14: 6, 8: 0, 3: 9, 43: 0, 36: 1, 37: 0, 50: 3, 47: 1, 42: 1, 5: 2, 12: 9, 31: 7, 23: 5, 41: 5, 15: 5, 33: 4}, 36: {2: 6, 22: 0, 21: 4, 13: 5, 14: 7, 8: 1, 3: 7, 43: 1, 36: 0, 37: 1, 50: 1, 47: 0, 42: 1, 5: 3, 12: 6, 31: 6, 23: 5, 41: 4, 15: 5, 33: 6}, 37: {2: 3, 22: 0, 21: 1, 13: 1, 14: 2, 8: 0, 3: 2, 43: 0, 36: 1, 37: 0, 50: 0, 47: 0, 42: 0, 5: 0, 12: 1, 31: 2, 23: 1, 41: 0, 15: 1, 33: 1}, 50: {2: 7, 22: 0, 21: 3, 13: 7, 14: 6, 8: 0, 3: 8, 43: 3, 36: 1, 37: 0, 50: 0, 47: 2, 42: 1, 5: 2, 12: 5, 31: 4, 23: 9, 41: 3, 15: 2, 33: 8}, 47: {2: 4, 22: 0, 21: 2, 13: 5, 14: 3, 8: 0, 3: 6, 43: 1, 36: 0, 37: 0, 50: 2, 47: 0, 42: 2, 5: 0, 12: 3, 31: 5, 23: 7, 41: 7, 15: 1, 33: 2}, 42: {2: 8, 22: 1, 21: 7, 13: 4, 14: 7, 8: 0, 3: 8, 43: 1, 36: 1, 37: 0, 50: 1, 47: 2, 42: 0, 5: 1, 12: 5, 31: 2, 23: 4, 41: 6, 15: 2, 33: 3}, 5: {2: 4, 22: 1, 21: 3, 13: 5, 14: 5, 8: 1, 3: 4, 43: 2, 36: 3, 37: 0, 50: 2, 47: 0, 42: 1, 5: 0, 12: 4, 31: 7, 23: 4, 41: 3, 15: 7, 33: 5}, 12: {2: 27, 22: 6, 21: 23, 13: 26, 14: 32, 8: 0, 3: 34, 43: 9, 36: 6, 37: 1, 50: 5, 47: 3, 42: 5, 5: 4, 12: 0, 31: 27, 23: 23, 41: 18, 15: 14, 33: 22}, 31: {2: 23, 22: 5, 21: 23, 13: 27, 14: 29, 8: 2, 3: 31, 43: 7, 36: 6, 37: 2, 50: 4, 47: 5, 42: 2, 5: 7, 12: 27, 31: 0, 23: 20, 41: 19, 15: 14, 33: 22}, 23: {2: 25, 22: 0, 21: 22, 13: 24, 14: 25, 8: 1, 3: 29, 43: 5, 36: 5, 37: 1, 50: 9, 47: 7, 42: 4, 5: 4, 12: 23, 31: 20, 23: 0, 41: 17, 15: 11, 33: 23}, 41: {2: 17, 22: 3, 21: 18, 13: 20, 14: 18, 8: 1, 3: 24, 43: 5, 36: 4, 37: 0, 50: 3, 47: 7, 42: 6, 5: 3, 12: 18, 31: 19, 23: 17, 41: 0, 15: 9, 33: 12}, 15: {2: 13, 22: 2, 21: 12, 13: 13, 14: 14, 8: 2, 3: 15, 43: 5, 36: 5, 37: 1, 50: 2, 47: 1, 42: 2, 5: 7, 12: 14, 31: 14, 23: 11, 41: 9, 15: 0, 33: 11}, 33: {2: 22, 22: 2, 21: 20, 13: 21, 14: 24, 8: 2, 3: 26, 43: 4, 36: 6, 37: 1, 50: 8, 47: 2, 42: 3, 5: 5, 12: 22, 31: 22, 23: 23, 41: 12, 15: 11, 33: 0}}, 'pie_chart_items': [{'project': '2', 'roundVoters': 33, 'nonRoundVoters': 246, 'reduction': mpq(0,1)}, {'project': '22', 'roundVoters': 3, 'nonRoundVoters': 36, 'reduction': mpq(0,1)}, {'project': '21', 'roundVoters': 32, 'nonRoundVoters': 220, 'reduction': mpq(0,1)}, {'project': '13', 'roundVoters': 30, 'nonRoundVoters': 247, 'reduction': mpq(0,1)}, {'project': '14', 'roundVoters': 35, 'nonRoundVoters': 267, 'reduction': mpq(0,1)}, {'project': '8', 'roundVoters': 1, 'nonRoundVoters': 12, 'reduction': mpq(0,1)}, {'project': '3', 'roundVoters': 0, 'nonRoundVoters': 337, 'reduction': 0}, {'project': '43', 'roundVoters': 9, 'nonRoundVoters': 70, 'reduction': mpq(0,1)}, {'project': '36', 'roundVoters': 7, 'nonRoundVoters': 62, 'reduction': mpq(0,1)}, {'project': '37', 'roundVoters': 2, 'nonRoundVoters': 14, 'reduction': mpq(0,1)}, {'project': '50', 'roundVoters': 8, 'nonRoundVoters': 63, 'reduction': mpq(0,1)}, {'project': '47', 'roundVoters': 6, 'nonRoundVoters': 44, 'reduction': mpq(0,1)}, {'project': '42', 'roundVoters': 8, 'nonRoundVoters': 55, 'reduction': mpq(0,1)}, {'project': '5', 'roundVoters': 4, 'nonRoundVoters': 57, 'reduction': mpq(0,1)}, {'project': '12', 'roundVoters': 34, 'nonRoundVoters': 251, 'reduction': mpq(0,1)}, {'project': '31', 'roundVoters': 31, 'nonRoundVoters': 244, 'reduction': mpq(0,1)}, {'project': '23', 'roundVoters': 29, 'nonRoundVoters': 226, 'reduction': mpq(0,1)}, {'project': '41', 'roundVoters': 24, 'nonRoundVoters': 180, 'reduction': mpq(0,1)}, {'project': '15', 'roundVoters': 15, 'nonRoundVoters': 138, 'reduction': mpq(0,1)}, {'project': '33', 'roundVoters': 26, 'nonRoundVoters': 210, 'reduction': mpq(0,1)}]}\n"
     ]
    },
    {
     "ename": "TypeError",
     "evalue": "'Project' object is not subscriptable",
     "output_type": "error",
     "traceback": [
      "\u001b[1;31m---------------------------------------------------------------------------\u001b[0m",
      "\u001b[1;31mTypeError\u001b[0m                                 Traceback (most recent call last)",
      "Cell \u001b[1;32mIn[6], line 2\u001b[0m\n\u001b[0;32m      1\u001b[0m \u001b[38;5;28mprint\u001b[39m(outcome)\n\u001b[1;32m----> 2\u001b[0m \u001b[43mdataStore\u001b[49m\u001b[38;5;241;43m.\u001b[39;49m\u001b[43mrender\u001b[49m\u001b[43m(\u001b[49m\u001b[38;5;124;43m\"\u001b[39;49m\u001b[38;5;124;43moutput.html\u001b[39;49m\u001b[38;5;124;43m\"\u001b[39;49m\u001b[43m,\u001b[49m\u001b[43m \u001b[49m\u001b[43moutcome\u001b[49m\u001b[43m)\u001b[49m\n",
      "File \u001b[1;32mc:\\Users\\leonc\\OneDrive - University of Warwick\\Documents\\Warwick\\CSY4\\CS407 - Group Project\\pabutools-binary-budgeteers\\pabutools\\mes_data_store.py:179\u001b[0m, in \u001b[0;36mMESDataStore.render\u001b[1;34m(self, outputName, outcome)\u001b[0m\n\u001b[0;32m    177\u001b[0m spent \u001b[38;5;241m=\u001b[39m \u001b[38;5;241m0\u001b[39m\n\u001b[0;32m    178\u001b[0m \u001b[38;5;28;01mfor\u001b[39;00m value \u001b[38;5;129;01min\u001b[39;00m \u001b[38;5;28mself\u001b[39m\u001b[38;5;241m.\u001b[39minstance:\n\u001b[1;32m--> 179\u001b[0m     \u001b[38;5;28;01mif\u001b[39;00m \u001b[43mvalue\u001b[49m\u001b[43m[\u001b[49m\u001b[38;5;124;43m\"\u001b[39;49m\u001b[38;5;124;43melected\u001b[39;49m\u001b[38;5;124;43m\"\u001b[39;49m\u001b[43m]\u001b[49m:\n\u001b[0;32m    180\u001b[0m         spent \u001b[38;5;241m+\u001b[39m\u001b[38;5;241m=\u001b[39m value[\u001b[38;5;124m\"\u001b[39m\u001b[38;5;124mcost\u001b[39m\u001b[38;5;124m\"\u001b[39m]\n\u001b[0;32m    182\u001b[0m rendered_output \u001b[38;5;241m=\u001b[39m template\u001b[38;5;241m.\u001b[39mrender(\n\u001b[0;32m    183\u001b[0m     election_name\u001b[38;5;241m=\u001b[39m \u001b[38;5;28mself\u001b[39m\u001b[38;5;241m.\u001b[39minstance\u001b[38;5;241m.\u001b[39mmeta[\u001b[38;5;124m\"\u001b[39m\u001b[38;5;124mdescription\u001b[39m\u001b[38;5;124m\"\u001b[39m] \u001b[38;5;28;01mif\u001b[39;00m \u001b[38;5;124m\"\u001b[39m\u001b[38;5;124mdescription\u001b[39m\u001b[38;5;124m\"\u001b[39m \u001b[38;5;129;01min\u001b[39;00m \u001b[38;5;28mself\u001b[39m\u001b[38;5;241m.\u001b[39minstance\u001b[38;5;241m.\u001b[39mmeta \u001b[38;5;28;01melse\u001b[39;00m \u001b[38;5;124m\"\u001b[39m\u001b[38;5;124mNo description provided.\u001b[39m\u001b[38;5;124m\"\u001b[39m,\n\u001b[0;32m    184\u001b[0m     rounds\u001b[38;5;241m=\u001b[39m\u001b[38;5;28mself\u001b[39m\u001b[38;5;241m.\u001b[39mrounds, \n\u001b[1;32m   (...)\u001b[0m\n\u001b[0;32m    189\u001b[0m     budget\u001b[38;5;241m=\u001b[39m \u001b[38;5;28mself\u001b[39m\u001b[38;5;241m.\u001b[39minstance\u001b[38;5;241m.\u001b[39mmeta[\u001b[38;5;124m\"\u001b[39m\u001b[38;5;124mbudget\u001b[39m\u001b[38;5;124m\"\u001b[39m]\n\u001b[0;32m    190\u001b[0m )\n",
      "\u001b[1;31mTypeError\u001b[0m: 'Project' object is not subscriptable"
     ]
    }
   ],
   "source": [
    "print(outcome)\n",
    "dataStore.render(\"output.html\", outcome)"
   ]
  },
  {
   "cell_type": "code",
   "execution_count": null,
   "metadata": {},
   "outputs": [],
   "source": []
  }
 ],
 "metadata": {
  "kernelspec": {
   "display_name": "Python 3",
   "language": "python",
   "name": "python3"
  },
  "language_info": {
   "codemirror_mode": {
    "name": "ipython",
    "version": 3
   },
   "file_extension": ".py",
   "mimetype": "text/x-python",
   "name": "python",
   "nbconvert_exporter": "python",
   "pygments_lexer": "ipython3",
   "version": "3.10.11"
  }
 },
 "nbformat": 4,
 "nbformat_minor": 2
}
