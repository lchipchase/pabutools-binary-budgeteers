{
 "cells": [
  {
   "cell_type": "code",
   "execution_count": 1,
   "metadata": {},
   "outputs": [
    {
     "ename": "AttributeError",
     "evalue": "'NoneType' object has no attribute 'iterations'",
     "output_type": "error",
     "traceback": [
      "\u001b[1;31m---------------------------------------------------------------------------\u001b[0m",
      "\u001b[1;31mAttributeError\u001b[0m                            Traceback (most recent call last)",
      "Cell \u001b[1;32mIn[1], line 9\u001b[0m\n\u001b[0;32m      7\u001b[0m instance, profile \u001b[38;5;241m=\u001b[39m election\u001b[38;5;241m.\u001b[39mparse_pabulib(\u001b[38;5;124m\"\u001b[39m\u001b[38;5;124m./e4.pb\u001b[39m\u001b[38;5;124m\"\u001b[39m)\n\u001b[0;32m      8\u001b[0m outcome \u001b[38;5;241m=\u001b[39m greedy_utilitarian_welfare(instance, profile, sat_class\u001b[38;5;241m=\u001b[39mCost_Sat)\n\u001b[1;32m----> 9\u001b[0m vis \u001b[38;5;241m=\u001b[39m \u001b[43mGreedyWelfareVisualiser\u001b[49m\u001b[43m(\u001b[49m\u001b[43mprofile\u001b[49m\u001b[43m,\u001b[49m\u001b[43m \u001b[49m\u001b[43minstance\u001b[49m\u001b[43m,\u001b[49m\u001b[43m \u001b[49m\u001b[43moutcome\u001b[49m\u001b[38;5;241;43m.\u001b[39;49m\u001b[43mdetails\u001b[49m\u001b[43m)\u001b[49m\n\u001b[0;32m     10\u001b[0m vis\u001b[38;5;241m.\u001b[39mrender(outcome, \u001b[38;5;124m\"\u001b[39m\u001b[38;5;124m./\u001b[39m\u001b[38;5;124m\"\u001b[39m)\n",
      "File \u001b[1;32mc:\\Users\\leonc\\OneDrive - University of Warwick\\Documents\\Warwick\\CSY4\\CS407 - Group Project\\pabutools-binary-budgeteers\\pabutools\\visualisation\\visualisation.py:211\u001b[0m, in \u001b[0;36mGreedyWelfareVisualiser.__init__\u001b[1;34m(self, profile, instance, greedy_details, verbose)\u001b[0m\n\u001b[0;32m    209\u001b[0m \u001b[38;5;28mself\u001b[39m\u001b[38;5;241m.\u001b[39minstance \u001b[38;5;241m=\u001b[39m instance\n\u001b[0;32m    210\u001b[0m \u001b[38;5;28mself\u001b[39m\u001b[38;5;241m.\u001b[39mverbose \u001b[38;5;241m=\u001b[39m verbose\n\u001b[1;32m--> 211\u001b[0m \u001b[38;5;28mself\u001b[39m\u001b[38;5;241m.\u001b[39mgreedy_iterations \u001b[38;5;241m=\u001b[39m \u001b[43mgreedy_details\u001b[49m\u001b[38;5;241;43m.\u001b[39;49m\u001b[43miterations\u001b[49m\n\u001b[0;32m    212\u001b[0m \u001b[38;5;28mself\u001b[39m\u001b[38;5;241m.\u001b[39mrounds \u001b[38;5;241m=\u001b[39m [{\n\u001b[0;32m    213\u001b[0m         \u001b[38;5;124m\"\u001b[39m\u001b[38;5;124mid\u001b[39m\u001b[38;5;124m\"\u001b[39m: \u001b[38;5;241m1\u001b[39m,\n\u001b[0;32m    214\u001b[0m         \u001b[38;5;124m\"\u001b[39m\u001b[38;5;124mremaining_budget\u001b[39m\u001b[38;5;124m\"\u001b[39m: \u001b[38;5;241m20000\u001b[39m,\n\u001b[1;32m   (...)\u001b[0m\n\u001b[0;32m    239\u001b[0m         }\n\u001b[0;32m    240\u001b[0m     }]\n",
      "\u001b[1;31mAttributeError\u001b[0m: 'NoneType' object has no attribute 'iterations'"
     ]
    }
   ],
   "source": [
    "from pabutools.election import Cost_Sat, Project, Instance, ApprovalBallot\n",
    "from pabutools import election\n",
    "from pabutools.visualisation.visualisation import MESVisualiser, GreedyWelfareVisualiser\n",
    "from pabutools.rules.mes import method_of_equal_shares\n",
    "from pabutools.rules.greedywelfare import greedy_utilitarian_welfare\n",
    "\n",
    "instance, profile = election.parse_pabulib(\"./e4.pb\")\n",
    "outcome = greedy_utilitarian_welfare(instance, profile, sat_class=Cost_Sat, analytics=True)\n",
    "vis = GreedyWelfareVisualiser(profile, instance, outcome.details)\n",
    "vis.render(outcome, \"./\")"
   ]
  },
  {
   "cell_type": "code",
   "execution_count": null,
   "metadata": {},
   "outputs": [
    {
     "data": {
      "text/plain": [
       "[3, 14, 13, 12, 2, 31, 21, 23, 15]"
      ]
     },
     "execution_count": 2,
     "metadata": {},
     "output_type": "execute_result"
    }
   ],
   "source": [
    "outcome"
   ]
  },
  {
   "cell_type": "code",
   "execution_count": null,
   "metadata": {},
   "outputs": [],
   "source": []
  }
 ],
 "metadata": {
  "kernelspec": {
   "display_name": "Python 3",
   "language": "python",
   "name": "python3"
  },
  "language_info": {
   "codemirror_mode": {
    "name": "ipython",
    "version": 3
   },
   "file_extension": ".py",
   "mimetype": "text/x-python",
   "name": "python",
   "nbconvert_exporter": "python",
   "pygments_lexer": "ipython3",
   "version": "3.9.13"
  }
 },
 "nbformat": 4,
 "nbformat_minor": 2
}
