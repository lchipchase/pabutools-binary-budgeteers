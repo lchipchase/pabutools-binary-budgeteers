{
 "cells": [
  {
   "cell_type": "code",
   "execution_count": 1,
   "metadata": {},
   "outputs": [],
   "source": [
    "from pabutools.election import Instance, Project, ApprovalProfile, ApprovalBallot, Cost_Sat\n",
    "from pabutools.rules.mes_to_dict import method_of_equal_shares\n",
    "from pabutools.tiebreaking import app_score_tie_breaking\n",
    "from pabutools import election\n",
    "instance, profile = election.parse_pabulib(\"./e4.pb\")"
   ]
  },
  {
   "cell_type": "code",
   "execution_count": 2,
   "metadata": {},
   "outputs": [
    {
     "name": "stdout",
     "output_type": "stream",
     "text": [
      "SNAKEY\n",
      "3\n",
      "{12: 2, 31: 2, 22: 3, 13: 2}\n",
      "SNAKEY\n",
      "14\n",
      "{31: 29, 13: 29, 22: 4, 2: 29, 41: 18, 12: 32, 23: 25, 3: 35, 5: 5, 15: 14, 42: 7, 50: 6, 47: 3, 43: 6, 37: 2}\n",
      "SNAKEY\n",
      "13\n",
      "{22: 6, 41: 14, 12: 19, 23: 24, 3: 28, 5: 2, 15: 9, 31: 17, 50: 5, 43: 3}\n",
      "SNAKEY\n",
      "12\n",
      "{23: 23, 3: 32, 31: 27, 22: 6, 13: 7, 21: 1}\n",
      "SNAKEY\n",
      "2\n",
      "{13: 25, 41: 17, 12: 27, 23: 24, 3: 33, 31: 23, 50: 7, 15: 13, 43: 7, 22: 4, 47: 3, 5: 4, 37: 3}\n",
      "SNAKEY\n",
      "31\n",
      "{13: 10, 22: 5, 3: 29, 23: 20, 21: 1}\n",
      "SNAKEY\n",
      "21\n",
      "{14: 27, 31: 22, 13: 22, 22: 1, 33: 20, 2: 22, 41: 18, 12: 22, 23: 22, 3: 32, 5: 3, 15: 12, 8: 2, 42: 7, 43: 7, 50: 3, 47: 2, 36: 4, 37: 1}\n",
      "SNAKEY\n",
      "23\n",
      "{3: 29, 2: 1, 50: 2, 47: 1, 43: 1}\n",
      "SNAKEY\n",
      "15\n",
      "{41: 9, 12: 14, 31: 14, 23: 11, 3: 15, 8: 2, 43: 5, 22: 2, 50: 2, 13: 4}\n"
     ]
    }
   ],
   "source": [
    "outcome = method_of_equal_shares(instance, profile, sat_class=Cost_Sat, verbose=False, storing=True)"
   ]
  },
  {
   "cell_type": "code",
   "execution_count": 3,
   "metadata": {},
   "outputs": [
    {
     "name": "stdout",
     "output_type": "stream",
     "text": [
      "[3, 14, 13, 12, 2, 31, 21, 23, 15]\n"
     ]
    }
   ],
   "source": [
    "print(outcome)"
   ]
  }
 ],
 "metadata": {
  "kernelspec": {
   "display_name": "Python 3",
   "language": "python",
   "name": "python3"
  },
  "language_info": {
   "codemirror_mode": {
    "name": "ipython",
    "version": 3
   },
   "file_extension": ".py",
   "mimetype": "text/x-python",
   "name": "python",
   "nbconvert_exporter": "python",
   "pygments_lexer": "ipython3",
   "version": "3.10.11"
  }
 },
 "nbformat": 4,
 "nbformat_minor": 2
}
